{
 "cells": [
  {
   "cell_type": "code",
   "execution_count": 1,
   "metadata": {},
   "outputs": [],
   "source": [
    "import pandas as pd\n",
    "import xgboost as xgb"
   ]
  },
  {
   "cell_type": "code",
   "execution_count": 2,
   "metadata": {},
   "outputs": [],
   "source": [
    "bgb=pd.read_excel(\"Balance Sheet.xls\",'General Business')"
   ]
  },
  {
   "cell_type": "code",
   "execution_count": 3,
   "metadata": {},
   "outputs": [],
   "source": [
    "bb=pd.read_excel(\"Balance Sheet.xls\",'Bank')"
   ]
  },
  {
   "cell_type": "code",
   "execution_count": 4,
   "metadata": {},
   "outputs": [],
   "source": [
    "bs=pd.read_excel(\"Balance Sheet.xls\",'Securities')"
   ]
  },
  {
   "cell_type": "code",
   "execution_count": 5,
   "metadata": {},
   "outputs": [],
   "source": [
    "bi=pd.read_excel(\"Balance Sheet.xls\",'Insurance')"
   ]
  },
  {
   "cell_type": "code",
   "execution_count": 6,
   "metadata": {},
   "outputs": [],
   "source": [
    "cgb=pd.read_excel(\"Cashflow Statement.xls\",'General Business')"
   ]
  },
  {
   "cell_type": "code",
   "execution_count": 7,
   "metadata": {},
   "outputs": [],
   "source": [
    "cb=pd.read_excel(\"Cashflow Statement.xls\",'Bank')"
   ]
  },
  {
   "cell_type": "code",
   "execution_count": 8,
   "metadata": {},
   "outputs": [],
   "source": [
    "cs=pd.read_excel(\"Cashflow Statement.xls\",'Securities')"
   ]
  },
  {
   "cell_type": "code",
   "execution_count": 9,
   "metadata": {},
   "outputs": [],
   "source": [
    "ci=pd.read_excel(\"Cashflow Statement.xls\",'Insurance')"
   ]
  },
  {
   "cell_type": "code",
   "execution_count": 10,
   "metadata": {},
   "outputs": [],
   "source": [
    "igb=pd.read_excel(\"Income Statement.xls\",'General Business')"
   ]
  },
  {
   "cell_type": "code",
   "execution_count": 11,
   "metadata": {},
   "outputs": [],
   "source": [
    "ib=pd.read_excel(\"Income Statement.xls\",'Bank')"
   ]
  },
  {
   "cell_type": "code",
   "execution_count": 12,
   "metadata": {},
   "outputs": [],
   "source": [
    "i_s=pd.read_excel(\"Income Statement.xls\",'Securities')"
   ]
  },
  {
   "cell_type": "code",
   "execution_count": 13,
   "metadata": {},
   "outputs": [],
   "source": [
    "ii=pd.read_excel(\"Income Statement.xls\",'Insurance')"
   ]
  },
  {
   "cell_type": "code",
   "execution_count": 14,
   "metadata": {},
   "outputs": [],
   "source": [
    "s=pd.read_csv(\"FDDC_financial_submit_20180524.csv\",header=None)"
   ]
  },
  {
   "cell_type": "code",
   "execution_count": 15,
   "metadata": {},
   "outputs": [],
   "source": [
    "s.rename(columns={s.columns[0]:'ID'},inplace=True)"
   ]
  },
  {
   "cell_type": "code",
   "execution_count": 16,
   "metadata": {},
   "outputs": [],
   "source": [
    "del bgb['PARTY_ID'], bgb['MERGED_FLAG'], bb['PARTY_ID'], bb['MERGED_FLAG'], bs['PARTY_ID'], bs['MERGED_FLAG'], bi['PARTY_ID'], bi['MERGED_FLAG'], cgb['PARTY_ID'], cgb['MERGED_FLAG'], cb['PARTY_ID'], cb['MERGED_FLAG'], cs['PARTY_ID'], cs['MERGED_FLAG'], ci['PARTY_ID'], ci['MERGED_FLAG'], igb['PARTY_ID'], igb['MERGED_FLAG'], ib['PARTY_ID'], ib['MERGED_FLAG'], i_s['PARTY_ID'], i_s['MERGED_FLAG'], ii['PARTY_ID'], ii['MERGED_FLAG']"
   ]
  },
  {
   "cell_type": "code",
   "execution_count": 17,
   "metadata": {},
   "outputs": [],
   "source": [
    "bgb=bgb.sort_values(['TICKER_SYMBOL','END_DATE']).reset_index(drop=True)\n",
    "bb=bb.sort_values(['TICKER_SYMBOL','END_DATE']).reset_index(drop=True)\n",
    "bs=bs.sort_values(['TICKER_SYMBOL','END_DATE']).reset_index(drop=True)\n",
    "bi=bi.sort_values(['TICKER_SYMBOL','END_DATE']).reset_index(drop=True)\n",
    "cgb=cgb.sort_values(['TICKER_SYMBOL','END_DATE']).reset_index(drop=True)\n",
    "cb=cb.sort_values(['TICKER_SYMBOL','END_DATE']).reset_index(drop=True)\n",
    "cs=cs.sort_values(['TICKER_SYMBOL','END_DATE']).reset_index(drop=True)\n",
    "ci=ci.sort_values(['TICKER_SYMBOL','END_DATE']).reset_index(drop=True)\n",
    "igb=igb.sort_values(['TICKER_SYMBOL','END_DATE']).reset_index(drop=True)\n",
    "ib=ib.sort_values(['TICKER_SYMBOL','END_DATE']).reset_index(drop=True)\n",
    "i_s=i_s.sort_values(['TICKER_SYMBOL','END_DATE']).reset_index(drop=True)\n",
    "ii=ii.sort_values(['TICKER_SYMBOL','END_DATE']).reset_index(drop=True)"
   ]
  },
  {
   "cell_type": "code",
   "execution_count": 18,
   "metadata": {},
   "outputs": [],
   "source": [
    "bgb['ID']=bgb.TICKER_SYMBOL.astype(str)+'.'+bgb.EXCHANGE_CD\n",
    "bgb.ID=bgb.ID.str.zfill(11)\n",
    "bb['ID']=bb.TICKER_SYMBOL.astype(str)+'.'+bb.EXCHANGE_CD\n",
    "bb.ID=bb.ID.str.zfill(11)\n",
    "bs['ID']=bs.TICKER_SYMBOL.astype(str)+'.'+bs.EXCHANGE_CD\n",
    "bs.ID=bs.ID.str.zfill(11)\n",
    "bi['ID']=bi.TICKER_SYMBOL.astype(str)+'.'+bi.EXCHANGE_CD\n",
    "bi.ID=bi.ID.str.zfill(11)"
   ]
  },
  {
   "cell_type": "code",
   "execution_count": 19,
   "metadata": {},
   "outputs": [],
   "source": [
    "cgb['ID']=cgb.TICKER_SYMBOL.astype(str)+'.'+cgb.EXCHANGE_CD\n",
    "cgb.ID=cgb.ID.str.zfill(11)\n",
    "cb['ID']=cb.TICKER_SYMBOL.astype(str)+'.'+cb.EXCHANGE_CD\n",
    "cb.ID=cb.ID.str.zfill(11)\n",
    "cs['ID']=cs.TICKER_SYMBOL.astype(str)+'.'+cs.EXCHANGE_CD\n",
    "cs.ID=cs.ID.str.zfill(11)\n",
    "ci['ID']=ci.TICKER_SYMBOL.astype(str)+'.'+ci.EXCHANGE_CD\n",
    "ci.ID=ci.ID.str.zfill(11)"
   ]
  },
  {
   "cell_type": "code",
   "execution_count": 20,
   "metadata": {},
   "outputs": [],
   "source": [
    "igb['ID']=igb.TICKER_SYMBOL.astype(str)+'.'+igb.EXCHANGE_CD\n",
    "igb.ID=igb.ID.str.zfill(11)\n",
    "ib['ID']=ib.TICKER_SYMBOL.astype(str)+'.'+ib.EXCHANGE_CD\n",
    "ib.ID=ib.ID.str.zfill(11)\n",
    "i_s['ID']=i_s.TICKER_SYMBOL.astype(str)+'.'+i_s.EXCHANGE_CD\n",
    "i_s.ID=i_s.ID.str.zfill(11)\n",
    "ii['ID']=ii.TICKER_SYMBOL.astype(str)+'.'+ii.EXCHANGE_CD\n",
    "ii.ID=ii.ID.str.zfill(11)"
   ]
  },
  {
   "cell_type": "code",
   "execution_count": 21,
   "metadata": {},
   "outputs": [],
   "source": [
    "bgbs=pd.merge(bgb,s,how='inner',on=['ID'])"
   ]
  },
  {
   "cell_type": "code",
   "execution_count": 22,
   "metadata": {},
   "outputs": [],
   "source": [
    "cgbs=pd.merge(cgb,s,how='inner',on=['ID'])"
   ]
  },
  {
   "cell_type": "code",
   "execution_count": 23,
   "metadata": {},
   "outputs": [],
   "source": [
    "igbs=pd.merge(igb,s,how='inner',on=['ID'])"
   ]
  },
  {
   "cell_type": "code",
   "execution_count": 24,
   "metadata": {},
   "outputs": [],
   "source": [
    "agbs0=pd.merge(bgbs,cgbs,how='inner',on=['TICKER_SYMBOL','EXCHANGE_CD','PUBLISH_DATE','END_DATE_REP','END_DATE','REPORT_TYPE','FISCAL_PERIOD','ID'])"
   ]
  },
  {
   "cell_type": "code",
   "execution_count": 25,
   "metadata": {},
   "outputs": [],
   "source": [
    "agbs=pd.merge(agbs0,igbs,how='inner',on=['TICKER_SYMBOL','EXCHANGE_CD','PUBLISH_DATE','END_DATE_REP','END_DATE','REPORT_TYPE','FISCAL_PERIOD','ID'])"
   ]
  },
  {
   "cell_type": "code",
   "execution_count": 26,
   "metadata": {},
   "outputs": [],
   "source": [
    "del agbs['TICKER_SYMBOL'],agbs['EXCHANGE_CD'],agbs['PUBLISH_DATE'],agbs['END_DATE_REP']"
   ]
  },
  {
   "cell_type": "code",
   "execution_count": 27,
   "metadata": {},
   "outputs": [],
   "source": [
    "ab0=pd.merge(bb,cb,how='inner',on=['TICKER_SYMBOL','EXCHANGE_CD','PUBLISH_DATE','END_DATE_REP','END_DATE','REPORT_TYPE','FISCAL_PERIOD','ID'])"
   ]
  },
  {
   "cell_type": "code",
   "execution_count": 28,
   "metadata": {},
   "outputs": [],
   "source": [
    "ab=pd.merge(ab0,ib,how='inner',on=['TICKER_SYMBOL','EXCHANGE_CD','PUBLISH_DATE','END_DATE_REP','END_DATE','REPORT_TYPE','FISCAL_PERIOD','ID'])"
   ]
  },
  {
   "cell_type": "code",
   "execution_count": 29,
   "metadata": {},
   "outputs": [],
   "source": [
    "del ab['TICKER_SYMBOL'],ab['EXCHANGE_CD'],ab['PUBLISH_DATE'],ab['END_DATE_REP']"
   ]
  },
  {
   "cell_type": "code",
   "execution_count": 30,
   "metadata": {},
   "outputs": [],
   "source": [
    "as0=pd.merge(bs,cs,how='inner',on=['TICKER_SYMBOL','EXCHANGE_CD','PUBLISH_DATE','END_DATE_REP','END_DATE','REPORT_TYPE','FISCAL_PERIOD','ID'])"
   ]
  },
  {
   "cell_type": "code",
   "execution_count": 31,
   "metadata": {},
   "outputs": [],
   "source": [
    "a_s=pd.merge(as0,i_s,how='inner',on=['TICKER_SYMBOL','EXCHANGE_CD','PUBLISH_DATE','END_DATE_REP','END_DATE','REPORT_TYPE','FISCAL_PERIOD','ID'])"
   ]
  },
  {
   "cell_type": "code",
   "execution_count": 32,
   "metadata": {},
   "outputs": [],
   "source": [
    "del a_s['TICKER_SYMBOL'],a_s['EXCHANGE_CD'],a_s['PUBLISH_DATE'],a_s['END_DATE_REP']"
   ]
  },
  {
   "cell_type": "code",
   "execution_count": 33,
   "metadata": {},
   "outputs": [],
   "source": [
    "ai0=pd.merge(bi,ci,how='inner',on=['TICKER_SYMBOL','EXCHANGE_CD','PUBLISH_DATE','END_DATE_REP','END_DATE','REPORT_TYPE','FISCAL_PERIOD','ID'])"
   ]
  },
  {
   "cell_type": "code",
   "execution_count": 34,
   "metadata": {},
   "outputs": [],
   "source": [
    "ai=pd.merge(ai0,ii,how='inner',on=['TICKER_SYMBOL','EXCHANGE_CD','PUBLISH_DATE','END_DATE_REP','END_DATE','REPORT_TYPE','FISCAL_PERIOD','ID'])"
   ]
  },
  {
   "cell_type": "code",
   "execution_count": 35,
   "metadata": {},
   "outputs": [],
   "source": [
    "del ai['TICKER_SYMBOL'],ai['EXCHANGE_CD'],ai['PUBLISH_DATE'],ai['END_DATE_REP']"
   ]
  },
  {
   "cell_type": "code",
   "execution_count": 36,
   "metadata": {},
   "outputs": [
    {
     "data": {
      "text/plain": [
       "1465"
      ]
     },
     "execution_count": 36,
     "metadata": {},
     "output_type": "execute_result"
    }
   ],
   "source": [
    "# For General Business part below\n",
    "len(agbs.ID.drop_duplicates())"
   ]
  },
  {
   "cell_type": "code",
   "execution_count": 37,
   "metadata": {},
   "outputs": [
    {
     "name": "stdout",
     "output_type": "stream",
     "text": [
      "1462\n",
      "1462\n"
     ]
    }
   ],
   "source": [
    "gb6=agbs[agbs['FISCAL_PERIOD']==6]\n",
    "gb61=gb6[gb6['END_DATE']=='2017-06-30']\n",
    "gb61=gb61.drop_duplicates()\n",
    "gb62=gb6[gb6['END_DATE']=='2016-06-30']\n",
    "print(len(gb61.ID.drop_duplicates()))\n",
    "print(len(gb62.ID.drop_duplicates()))"
   ]
  },
  {
   "cell_type": "code",
   "execution_count": 38,
   "metadata": {},
   "outputs": [],
   "source": [
    "gbcols=[col for col in gb6.columns if col in ['NOTES_RECEIV','AR','PREMIUM_RECEIV','REINSUR_RECEIV','INT_RECEIV','DIV_RECEIV','OTH_RECEIV','LT_RECEIV','ADVANCE_RECEIPTS','PREFERRED_STOCK_L','DEFER_REVENUE','OTH_EQUITY_INSTR','PREFERRED_STOCK_E','PERPETUAL_BOND_E','TREASURY_SHARE','OTH_COMPRE_INCOME','RETAINED_EARNINGS','FOREX_DIFFER','SEE','SEA','T_EQUITY_ATTR_P','MINORITY_INT','OTH_EFFECT_SE','OTH_EFFECT_SA','T_SH_EQUITY','C_FR_SALE_G_S','PREM_FR_ORIG_CONTR','N_REINSUR_PREM','IFC_CASH_INCR','REFUND_OF_TAX','C_FR_OTH_OPERATE_A','SPEC_OCIF','AOCIF','C_INF_FR_OPERATE_A','ANOCF','N_CF_OPERATE_A','GAIN_INVEST','N_DISP_SUBS_OTH_BIZ_C','C_FR_OTH_INVEST_A','SPEC_ICIF','AICIF','C_INF_FR_INVEST_A','ANICF','N_CF_FR_INVEST_A','FOREX_EFFECTS','OTH_EFFECT_CE','ACE','N_CHANGE_IN_CASH','N_CE_BEG_BAL','OTH_EFFECT_CEI','ACEI','N_CE_END_BAL','T_REVENUE','INT_INCOME','PREM_EARNED','COMMIS_INCOME','SPEC_TOR','ATOR','F_VALUE_CHG_GAIN','INVEST_INCOME','A_J_INVEST_INCOME','FOREX_GAIN','OTH_EFFECT_OP','AE_EFFECT_OP','OTH_GAIN','OPERATE_PROFIT','NOPERATE_INCOME','OTH_EFFECT_TP','AE_EFFECT_TP','T_PROFIT','OTH_EFFECT_NP','AE_EFFECT_NP','N_INCOME','GOING_CONCERN_NI','QUIT_CONCERN_NI','N_INCOME_ATTR_P','N_INCOME_BMA','MINORITY_GAIN','OTH_EFFECT_NPP','AE_EFFECT_NPP','BASIC_EPS','OTH_COMPR_INCOME','OTH_EFFECT_CI','AE_EFFECT_CI','T_COMPR_INCOME','COMPR_INC_ATTR_P','COMPR_INC_ATTR_M_S','OTH_EFFECT_PCI','AE_EFFECT_PCI'\n",
    "]]"
   ]
  },
  {
   "cell_type": "code",
   "execution_count": 39,
   "metadata": {},
   "outputs": [],
   "source": [
    "xgb_tr=gb62[gbcols]\n",
    "xgb_te=gb61[gbcols]"
   ]
  },
  {
   "cell_type": "code",
   "execution_count": 40,
   "metadata": {},
   "outputs": [],
   "source": [
    "model=xgb.XGBRegressor()"
   ]
  },
  {
   "cell_type": "code",
   "execution_count": 41,
   "metadata": {},
   "outputs": [
    {
     "data": {
      "text/plain": [
       "XGBRegressor(base_score=0.5, booster='gbtree', colsample_bylevel=1,\n",
       "       colsample_bytree=1, gamma=0, learning_rate=0.1, max_delta_step=0,\n",
       "       max_depth=3, min_child_weight=1, missing=None, n_estimators=100,\n",
       "       n_jobs=1, nthread=None, objective='reg:linear', random_state=0,\n",
       "       reg_alpha=0, reg_lambda=1, scale_pos_weight=1, seed=None,\n",
       "       silent=True, subsample=1)"
      ]
     },
     "execution_count": 41,
     "metadata": {},
     "output_type": "execute_result"
    }
   ],
   "source": [
    "model.fit(xgb_tr,gb62['REVENUE'])"
   ]
  },
  {
   "cell_type": "code",
   "execution_count": 42,
   "metadata": {},
   "outputs": [],
   "source": [
    "ygb_pred=model.predict(xgb_te)"
   ]
  },
  {
   "cell_type": "code",
   "execution_count": 43,
   "metadata": {},
   "outputs": [
    {
     "data": {
      "text/plain": [
       "0.944523481212643"
      ]
     },
     "execution_count": 43,
     "metadata": {},
     "output_type": "execute_result"
    }
   ],
   "source": [
    "model.score(xgb_te,gb61['REVENUE'])"
   ]
  },
  {
   "cell_type": "code",
   "execution_count": 44,
   "metadata": {},
   "outputs": [],
   "source": [
    "fgbs=pd.DataFrame({'ID':gb61.ID,'y_pred':ygb_pred})"
   ]
  },
  {
   "cell_type": "code",
   "execution_count": 45,
   "metadata": {},
   "outputs": [],
   "source": [
    "fgbs=fgbs.drop_duplicates()"
   ]
  },
  {
   "cell_type": "code",
   "execution_count": 46,
   "metadata": {},
   "outputs": [],
   "source": [
    "fgbs=fgbs.reset_index(drop=True)"
   ]
  },
  {
   "cell_type": "code",
   "execution_count": 47,
   "metadata": {},
   "outputs": [],
   "source": [
    "fgbs=fgbs.drop([74,664,781,789,1210])"
   ]
  },
  {
   "cell_type": "code",
   "execution_count": 48,
   "metadata": {},
   "outputs": [
    {
     "data": {
      "text/plain": [
       "False    1462\n",
       "Name: y_pred, dtype: int64"
      ]
     },
     "execution_count": 48,
     "metadata": {},
     "output_type": "execute_result"
    }
   ],
   "source": [
    "fgbs.y_pred.isnull().value_counts()"
   ]
  },
  {
   "cell_type": "code",
   "execution_count": 49,
   "metadata": {},
   "outputs": [
    {
     "data": {
      "text/plain": [
       "28"
      ]
     },
     "execution_count": 49,
     "metadata": {},
     "output_type": "execute_result"
    }
   ],
   "source": [
    "# For Bank part below\n",
    "len(ab.ID.drop_duplicates())"
   ]
  },
  {
   "cell_type": "code",
   "execution_count": 50,
   "metadata": {},
   "outputs": [
    {
     "name": "stdout",
     "output_type": "stream",
     "text": [
      "28\n",
      "28\n"
     ]
    }
   ],
   "source": [
    "b12=ab[ab['FISCAL_PERIOD']==12]\n",
    "b121=b12[b12['END_DATE']=='2017-12-31']\n",
    "b122=b12[b12['END_DATE']=='2016-12-31']\n",
    "print(len(b121.ID.drop_duplicates()))\n",
    "print(len(b122.ID.drop_duplicates()))"
   ]
  },
  {
   "cell_type": "code",
   "execution_count": 51,
   "metadata": {},
   "outputs": [],
   "source": [
    "bcols=[col for col in b12.columns if col not in ['END_DATE','REPORT_TYPE','FISCAL_PERIOD','ID','REVENUE']]"
   ]
  },
  {
   "cell_type": "code",
   "execution_count": 52,
   "metadata": {},
   "outputs": [],
   "source": [
    "xb_tr=b122[bcols]\n",
    "xb_te=b121[bcols]"
   ]
  },
  {
   "cell_type": "code",
   "execution_count": 53,
   "metadata": {},
   "outputs": [],
   "source": [
    "modelb=xgb.XGBRegressor()"
   ]
  },
  {
   "cell_type": "code",
   "execution_count": 54,
   "metadata": {},
   "outputs": [
    {
     "data": {
      "text/plain": [
       "XGBRegressor(base_score=0.5, booster='gbtree', colsample_bylevel=1,\n",
       "       colsample_bytree=1, gamma=0, learning_rate=0.1, max_delta_step=0,\n",
       "       max_depth=3, min_child_weight=1, missing=None, n_estimators=100,\n",
       "       n_jobs=1, nthread=None, objective='reg:linear', random_state=0,\n",
       "       reg_alpha=0, reg_lambda=1, scale_pos_weight=1, seed=None,\n",
       "       silent=True, subsample=1)"
      ]
     },
     "execution_count": 54,
     "metadata": {},
     "output_type": "execute_result"
    }
   ],
   "source": [
    "modelb.fit(xb_tr,b122['REVENUE'])"
   ]
  },
  {
   "cell_type": "code",
   "execution_count": 55,
   "metadata": {},
   "outputs": [],
   "source": [
    "yb_pred=modelb.predict(xb_te)"
   ]
  },
  {
   "cell_type": "code",
   "execution_count": 56,
   "metadata": {},
   "outputs": [
    {
     "data": {
      "text/plain": [
       "0.9913953909952394"
      ]
     },
     "execution_count": 56,
     "metadata": {},
     "output_type": "execute_result"
    }
   ],
   "source": [
    "modelb.score(xb_te,b121['REVENUE'])"
   ]
  },
  {
   "cell_type": "code",
   "execution_count": 57,
   "metadata": {},
   "outputs": [
    {
     "data": {
      "text/plain": [
       "28"
      ]
     },
     "execution_count": 57,
     "metadata": {},
     "output_type": "execute_result"
    }
   ],
   "source": [
    "b3=ab[ab['FISCAL_PERIOD']==3]\n",
    "b31=b3[b3['END_DATE']=='2018-03-31']\n",
    "len(b3.ID.drop_duplicates())"
   ]
  },
  {
   "cell_type": "code",
   "execution_count": 58,
   "metadata": {},
   "outputs": [],
   "source": [
    "fb=pd.DataFrame({'ID':b121.ID.reset_index(drop=True),'y_pred':yb_pred/4+b31.REVENUE.reset_index(drop=True)})"
   ]
  },
  {
   "cell_type": "code",
   "execution_count": 59,
   "metadata": {},
   "outputs": [],
   "source": [
    "fbs=pd.merge(s,fb,how='inner',on=['ID'])"
   ]
  },
  {
   "cell_type": "code",
   "execution_count": 60,
   "metadata": {},
   "outputs": [
    {
     "data": {
      "text/plain": [
       "34"
      ]
     },
     "execution_count": 60,
     "metadata": {},
     "output_type": "execute_result"
    }
   ],
   "source": [
    "#For Securities part below\n",
    "len(a_s.ID.drop_duplicates())"
   ]
  },
  {
   "cell_type": "code",
   "execution_count": 61,
   "metadata": {},
   "outputs": [
    {
     "name": "stdout",
     "output_type": "stream",
     "text": [
      "34\n",
      "34\n"
     ]
    }
   ],
   "source": [
    "s12=a_s[a_s['FISCAL_PERIOD']==12]\n",
    "s121=s12[s12['END_DATE']=='2017-12-31']\n",
    "s122=s12[s12['END_DATE']=='2016-12-31']\n",
    "print(len(s121.ID.drop_duplicates()))\n",
    "print(len(s122.ID.drop_duplicates()))"
   ]
  },
  {
   "cell_type": "code",
   "execution_count": 62,
   "metadata": {},
   "outputs": [],
   "source": [
    "scols=[col for col in s12.columns if col not in ['END_DATE','REPORT_TYPE','FISCAL_PERIOD','ID','REVENUE']]"
   ]
  },
  {
   "cell_type": "code",
   "execution_count": 63,
   "metadata": {},
   "outputs": [],
   "source": [
    "xs_tr=s122[scols]\n",
    "xs_te=s121[scols]"
   ]
  },
  {
   "cell_type": "code",
   "execution_count": 64,
   "metadata": {},
   "outputs": [],
   "source": [
    "models=xgb.XGBRegressor()"
   ]
  },
  {
   "cell_type": "code",
   "execution_count": 65,
   "metadata": {},
   "outputs": [
    {
     "data": {
      "text/plain": [
       "XGBRegressor(base_score=0.5, booster='gbtree', colsample_bylevel=1,\n",
       "       colsample_bytree=1, gamma=0, learning_rate=0.1, max_delta_step=0,\n",
       "       max_depth=3, min_child_weight=1, missing=None, n_estimators=100,\n",
       "       n_jobs=1, nthread=None, objective='reg:linear', random_state=0,\n",
       "       reg_alpha=0, reg_lambda=1, scale_pos_weight=1, seed=None,\n",
       "       silent=True, subsample=1)"
      ]
     },
     "execution_count": 65,
     "metadata": {},
     "output_type": "execute_result"
    }
   ],
   "source": [
    "models.fit(xs_tr,s122['REVENUE'])"
   ]
  },
  {
   "cell_type": "code",
   "execution_count": 66,
   "metadata": {},
   "outputs": [],
   "source": [
    "ys_pred=models.predict(xs_te)"
   ]
  },
  {
   "cell_type": "code",
   "execution_count": 67,
   "metadata": {},
   "outputs": [
    {
     "data": {
      "text/plain": [
       "0.7808635402539233"
      ]
     },
     "execution_count": 67,
     "metadata": {},
     "output_type": "execute_result"
    }
   ],
   "source": [
    "models.score(xs_te,s121['REVENUE'])"
   ]
  },
  {
   "cell_type": "code",
   "execution_count": 68,
   "metadata": {},
   "outputs": [],
   "source": [
    "fs=pd.DataFrame({'ID':s121.ID,'y_pred':ys_pred/2})"
   ]
  },
  {
   "cell_type": "code",
   "execution_count": 69,
   "metadata": {},
   "outputs": [],
   "source": [
    "fss=pd.merge(s,fs,how='inner',on=['ID'])"
   ]
  },
  {
   "cell_type": "code",
   "execution_count": 70,
   "metadata": {},
   "outputs": [
    {
     "data": {
      "text/plain": [
       "5"
      ]
     },
     "execution_count": 70,
     "metadata": {},
     "output_type": "execute_result"
    }
   ],
   "source": [
    "#For Insurance part below\n",
    "len(ai.ID.drop_duplicates())"
   ]
  },
  {
   "cell_type": "code",
   "execution_count": 71,
   "metadata": {},
   "outputs": [
    {
     "name": "stdout",
     "output_type": "stream",
     "text": [
      "5\n",
      "5\n"
     ]
    }
   ],
   "source": [
    "i12=ai[ai['FISCAL_PERIOD']==12]\n",
    "i121=i12[i12['END_DATE']=='2017-12-31']\n",
    "i122=i12[i12['END_DATE']=='2016-12-31']\n",
    "print(len(i121.ID.drop_duplicates()))\n",
    "print(len(i122.ID.drop_duplicates()))"
   ]
  },
  {
   "cell_type": "code",
   "execution_count": 72,
   "metadata": {},
   "outputs": [],
   "source": [
    "icols=[col for col in i12.columns if col not in ['END_DATE','REPORT_TYPE','FISCAL_PERIOD','ID','REVENUE']]"
   ]
  },
  {
   "cell_type": "code",
   "execution_count": 73,
   "metadata": {},
   "outputs": [],
   "source": [
    "xi_tr=i122[icols]\n",
    "xi_te=i121[icols]"
   ]
  },
  {
   "cell_type": "code",
   "execution_count": 74,
   "metadata": {},
   "outputs": [],
   "source": [
    "modeli=xgb.XGBRegressor()"
   ]
  },
  {
   "cell_type": "code",
   "execution_count": 75,
   "metadata": {},
   "outputs": [
    {
     "data": {
      "text/plain": [
       "XGBRegressor(base_score=0.5, booster='gbtree', colsample_bylevel=1,\n",
       "       colsample_bytree=1, gamma=0, learning_rate=0.1, max_delta_step=0,\n",
       "       max_depth=3, min_child_weight=1, missing=None, n_estimators=100,\n",
       "       n_jobs=1, nthread=None, objective='reg:linear', random_state=0,\n",
       "       reg_alpha=0, reg_lambda=1, scale_pos_weight=1, seed=None,\n",
       "       silent=True, subsample=1)"
      ]
     },
     "execution_count": 75,
     "metadata": {},
     "output_type": "execute_result"
    }
   ],
   "source": [
    "modeli.fit(xi_tr,i122['REVENUE'])"
   ]
  },
  {
   "cell_type": "code",
   "execution_count": 76,
   "metadata": {},
   "outputs": [],
   "source": [
    "yi_pred=modeli.predict(xi_te)"
   ]
  },
  {
   "cell_type": "code",
   "execution_count": 77,
   "metadata": {},
   "outputs": [
    {
     "data": {
      "text/plain": [
       "0.4959887182712709"
      ]
     },
     "execution_count": 77,
     "metadata": {},
     "output_type": "execute_result"
    }
   ],
   "source": [
    "modeli.score(xi_te,i121['REVENUE'])"
   ]
  },
  {
   "cell_type": "code",
   "execution_count": 78,
   "metadata": {},
   "outputs": [],
   "source": [
    "fi=pd.DataFrame({'ID':i121.ID,'y_pred':yi_pred/2})"
   ]
  },
  {
   "cell_type": "code",
   "execution_count": 79,
   "metadata": {},
   "outputs": [],
   "source": [
    "fis=pd.merge(s,fi,how='inner',on=['ID'])"
   ]
  },
  {
   "cell_type": "code",
   "execution_count": 80,
   "metadata": {},
   "outputs": [],
   "source": [
    "m1=pd.merge(fss,fgbs,how=\"outer\",on=['ID','y_pred'])\n",
    "m2=pd.merge(m1,fbs,how=\"outer\",on=['ID','y_pred'])\n",
    "m3=pd.merge(m2,fis,how=\"outer\",on=['ID','y_pred'])\n",
    "m=pd.merge(s,m3,how=\"inner\",on=['ID'])"
   ]
  },
  {
   "cell_type": "code",
   "execution_count": 81,
   "metadata": {},
   "outputs": [],
   "source": [
    "m=m.sort_values(['ID'])"
   ]
  },
  {
   "cell_type": "code",
   "execution_count": 82,
   "metadata": {},
   "outputs": [],
   "source": [
    "m.y_pred=round(m.y_pred/(10**6),2)"
   ]
  },
  {
   "cell_type": "code",
   "execution_count": 83,
   "metadata": {},
   "outputs": [
    {
     "data": {
      "text/plain": [
       "False    1493\n",
       "Name: y_pred, dtype: int64"
      ]
     },
     "execution_count": 83,
     "metadata": {},
     "output_type": "execute_result"
    }
   ],
   "source": [
    "m.y_pred.isnull().value_counts()"
   ]
  },
  {
   "cell_type": "code",
   "execution_count": 84,
   "metadata": {},
   "outputs": [],
   "source": [
    "m.to_csv(\"FDDC_financial_submit_20180810_010700.csv\",header=None,index=False)"
   ]
  },
  {
   "cell_type": "code",
   "execution_count": null,
   "metadata": {},
   "outputs": [],
   "source": []
  }
 ],
 "metadata": {
  "kernelspec": {
   "display_name": "Python 3",
   "language": "python",
   "name": "python3"
  },
  "language_info": {
   "codemirror_mode": {
    "name": "ipython",
    "version": 3
   },
   "file_extension": ".py",
   "mimetype": "text/x-python",
   "name": "python",
   "nbconvert_exporter": "python",
   "pygments_lexer": "ipython3",
   "version": "3.6.5"
  }
 },
 "nbformat": 4,
 "nbformat_minor": 2
}
